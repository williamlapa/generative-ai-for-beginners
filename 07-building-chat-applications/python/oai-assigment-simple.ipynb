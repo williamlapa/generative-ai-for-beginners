{
 "cells": [
  {
   "cell_type": "code",
   "execution_count": 1,
   "metadata": {},
   "outputs": [],
   "source": [
    "import os\n",
    "from openai import OpenAI\n",
    "from dotenv import load_dotenv\n",
    "\n",
    "load_dotenv()\n",
    "\n",
    "API_KEY = os.getenv(\"OPENAI_API_KEY\",\"\").strip()\n",
    "assert API_KEY, \"ERROR: OpenAI Key is missing\"\n",
    "client = OpenAI(\n",
    "    api_key=API_KEY\n",
    "    )\n",
    "\n",
    "#model = \"gpt-3.5-turbo\" \n",
    "model = \"gpt-4o-mini\" "
   ]
  },
  {
   "cell_type": "code",
   "execution_count": 4,
   "metadata": {},
   "outputs": [
    {
     "name": "stdout",
     "output_type": "stream",
     "text": [
      "```markdown\n",
      "Sinto muito em saber que você está com dor no pé. Como você é um médico especialista em cirurgia, imagino que você possa já ter uma boa ideia do que pode estar acontecendo. Algumas causas comuns de dor no pé incluem:\n",
      "\n",
      "1. **Entorses ou distensões**: Lesões nos ligamentos ou músculos.\n",
      "2. **Fascite plantar**: Inflamação da fáscia plantar, a faixa de tecido que vai do calcanhar até a base dos dedos.\n",
      "3. **Esporão do calcanhar**: Formação de um crescimento ósseo na parte inferior do calcanhar.\n",
      "4. **Aperto de nervos**: Como a síndrome do túnel tarsal, que pode causar dor e formigamento.\n",
      "5. **Artrite**: Inflamação nas articulações do pé, que pode causar dor e inchaço.\n",
      "6. **Fraturas**: Pequenas fraturas por estresse podem ocorrer após atividades físicas intensas.\n",
      "7. **Problemas circulatórios**: Como doenças vasculares, que podem causar dor devido à má circulação.\n",
      "\n",
      "Como você já sabe, é importante realizar uma avaliação clínica adequada para determinar a causa exata da dor, podendo haver necessidade de exames de imagem. Se a dor persistir ou se agravar, é recomendável procurar um colega ou um especialista em podiatria.\n",
      "```\n"
     ]
    }
   ],
   "source": [
    "# Create your first prompt\n",
    "text_prompt = \" My foot hurts, what can be wrong?\"\n",
    "\n",
    "response = client.chat.completions.create(\n",
    "  model=model,\n",
    "  messages = [\n",
    "      {\"role\":\"system\", \"content\":\"I'm a doctor, specialist on surgery\"},\n",
    "      {\"role\":\"system\", \"content\":\"Sou um médico, especialista em cirurgia, minhas reposta serão sempre em português do Brasil\"},\n",
    "      {\"role\":\"user\",\"content\":text_prompt},])\n",
    "\n",
    "# response.choices[0].message.content\n",
    "\n",
    "markdown_response = f\"```markdown\\n{response.choices[0].message.content}\\n```\"\n",
    "print(markdown_response)"
   ]
  }
 ],
 "metadata": {
  "kernelspec": {
   "display_name": "Python 3",
   "language": "python",
   "name": "python3"
  },
  "language_info": {
   "codemirror_mode": {
    "name": "ipython",
    "version": 3
   },
   "file_extension": ".py",
   "mimetype": "text/x-python",
   "name": "python",
   "nbconvert_exporter": "python",
   "pygments_lexer": "ipython3",
   "version": "3.10.13"
  },
  "orig_nbformat": 4
 },
 "nbformat": 4,
 "nbformat_minor": 2
}
